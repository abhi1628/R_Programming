{
  "nbformat": 4,
  "nbformat_minor": 0,
  "metadata": {
    "colab": {
      "provenance": [],
      "authorship_tag": "ABX9TyMbIgYkK5Y/znYLEXaTKk2F",
      "include_colab_link": true
    },
    "kernelspec": {
      "name": "ir",
      "display_name": "R"
    },
    "language_info": {
      "name": "R"
    }
  },
  "cells": [
    {
      "cell_type": "markdown",
      "metadata": {
        "id": "view-in-github",
        "colab_type": "text"
      },
      "source": [
        "<a href=\"https://colab.research.google.com/github/abhi1628/R_Programming/blob/main/R_from_scratch_day1.ipynb\" target=\"_parent\"><img src=\"https://colab.research.google.com/assets/colab-badge.svg\" alt=\"Open In Colab\"/></a>"
      ]
    },
    {
      "cell_type": "markdown",
      "source": [
        "## R is programming language created by statisticians Ross Ihaka and Robert Gentleman"
      ],
      "metadata": {
        "id": "ykckRrXtEfWD"
      }
    },
    {
      "cell_type": "markdown",
      "source": [
        "## Basic Arithmetic in R"
      ],
      "metadata": {
        "id": "Un38kk-mFIKu"
      }
    },
    {
      "cell_type": "code",
      "source": [
        "2 + 3 # add\n",
        "5 - 2 # subtraction\n",
        "3 * 4 # multiplication\n",
        "10 / 2 # division\n",
        "2 ^ 3 # exponent or power\n",
        "sqrt(16) # square root"
      ],
      "metadata": {
        "id": "-v-mMwCkZmP0",
        "colab": {
          "base_uri": "https://localhost:8080/",
          "height": 121
        },
        "outputId": "6e1c3a14-4841-4ef0-8329-7cdfea7aeeb5"
      },
      "execution_count": 5,
      "outputs": [
        {
          "output_type": "display_data",
          "data": {
            "text/html": [
              "5"
            ],
            "text/markdown": "5",
            "text/latex": "5",
            "text/plain": [
              "[1] 5"
            ]
          },
          "metadata": {}
        },
        {
          "output_type": "display_data",
          "data": {
            "text/html": [
              "3"
            ],
            "text/markdown": "3",
            "text/latex": "3",
            "text/plain": [
              "[1] 3"
            ]
          },
          "metadata": {}
        },
        {
          "output_type": "display_data",
          "data": {
            "text/html": [
              "12"
            ],
            "text/markdown": "12",
            "text/latex": "12",
            "text/plain": [
              "[1] 12"
            ]
          },
          "metadata": {}
        },
        {
          "output_type": "display_data",
          "data": {
            "text/html": [
              "5"
            ],
            "text/markdown": "5",
            "text/latex": "5",
            "text/plain": [
              "[1] 5"
            ]
          },
          "metadata": {}
        },
        {
          "output_type": "display_data",
          "data": {
            "text/html": [
              "8"
            ],
            "text/markdown": "8",
            "text/latex": "8",
            "text/plain": [
              "[1] 8"
            ]
          },
          "metadata": {}
        },
        {
          "output_type": "display_data",
          "data": {
            "text/html": [
              "4"
            ],
            "text/markdown": "4",
            "text/latex": "4",
            "text/plain": [
              "[1] 4"
            ]
          },
          "metadata": {}
        }
      ]
    },
    {
      "cell_type": "markdown",
      "source": [
        "## Assigning values to variables"
      ],
      "metadata": {
        "id": "2eOSvHExGyR0"
      }
    },
    {
      "cell_type": "code",
      "source": [
        "x = 5\n",
        "print(x)\n",
        "y <- 10\n",
        "print(y)"
      ],
      "metadata": {
        "colab": {
          "base_uri": "https://localhost:8080/"
        },
        "id": "45LAa7mQEskv",
        "outputId": "5b74a375-d856-450d-d516-35b0180195de"
      },
      "execution_count": 6,
      "outputs": [
        {
          "output_type": "stream",
          "name": "stdout",
          "text": [
            "[1] 5\n",
            "[1] 10\n"
          ]
        }
      ]
    },
    {
      "cell_type": "markdown",
      "source": [
        "## Checking the datatype"
      ],
      "metadata": {
        "id": "B2GwMwpOHvKZ"
      }
    },
    {
      "cell_type": "code",
      "source": [
        "a <- 'mystring'\n",
        "b <- 5\n",
        "c <- 10.7\n",
        "d <- TRUE\n",
        "print(a)\n",
        "print(b)\n",
        "print(c)\n",
        "print(d)"
      ],
      "metadata": {
        "colab": {
          "base_uri": "https://localhost:8080/"
        },
        "id": "N5Vb88FFHDfu",
        "outputId": "c9b582b7-5bb9-47b4-e902-a04e29f37bd5"
      },
      "execution_count": 8,
      "outputs": [
        {
          "output_type": "stream",
          "name": "stdout",
          "text": [
            "[1] \"mystring\"\n",
            "[1] 5\n",
            "[1] 10.7\n",
            "[1] TRUE\n"
          ]
        }
      ]
    },
    {
      "cell_type": "code",
      "source": [
        "print(class(a))\n",
        "print(class(b))\n",
        "print(class(c))\n",
        "print(class(d))"
      ],
      "metadata": {
        "colab": {
          "base_uri": "https://localhost:8080/"
        },
        "id": "5BgwzV2UIIYN",
        "outputId": "2eb237a9-033e-40f2-80ba-872a1089fe12"
      },
      "execution_count": 10,
      "outputs": [
        {
          "output_type": "stream",
          "name": "stdout",
          "text": [
            "[1] \"character\"\n",
            "[1] \"numeric\"\n",
            "[1] \"numeric\"\n",
            "[1] \"logical\"\n"
          ]
        }
      ]
    },
    {
      "cell_type": "markdown",
      "source": [
        "## Vectors are the basic data structure in R. Using c function of R a vector is created."
      ],
      "metadata": {
        "id": "V9UlTbRqIzmk"
      }
    },
    {
      "cell_type": "code",
      "source": [
        "vec <- c(1,2,3,4,5) # c means combine.\n",
        "                    # Here we are creating a numeric vector\n",
        "char <- c('a', 'b', 'c') # creating a character vector\n",
        "print(vec)\n",
        "print(class(vec))\n",
        "print(char)\n",
        "print(class(char))"
      ],
      "metadata": {
        "colab": {
          "base_uri": "https://localhost:8080/"
        },
        "id": "0mln-m3iIQA8",
        "outputId": "a6ba800d-bdec-41f3-bf0f-7d94310ec642"
      },
      "execution_count": 11,
      "outputs": [
        {
          "output_type": "stream",
          "name": "stdout",
          "text": [
            "[1] 1 2 3 4 5\n",
            "[1] \"numeric\"\n",
            "[1] \"a\" \"b\" \"c\"\n",
            "[1] \"character\"\n"
          ]
        }
      ]
    },
    {
      "cell_type": "markdown",
      "source": [
        "## Sequence and Repetitions"
      ],
      "metadata": {
        "id": "YTjosnBEKXZz"
      }
    },
    {
      "cell_type": "code",
      "source": [
        "seq1 <- 1:10 # from 1 to 10\n",
        "print(seq1)\n",
        "print(class(seq1))\n",
        "seq2 <- seq(1, 10, by = 2) # from 1 to 10 by stepsize 2\n",
        "print(seq2)\n",
        "print(class(seq2))\n",
        "rep1 <- rep(5, times = 3) # repeat 5 three times\n",
        "print(rep1)\n",
        "print(class(rep1))"
      ],
      "metadata": {
        "colab": {
          "base_uri": "https://localhost:8080/"
        },
        "id": "rHR4YDGkJfmN",
        "outputId": "e0cac2ff-a376-49c7-dbb2-f786663c39fb"
      },
      "execution_count": 14,
      "outputs": [
        {
          "output_type": "stream",
          "name": "stdout",
          "text": [
            " [1]  1  2  3  4  5  6  7  8  9 10\n",
            "[1] \"integer\"\n",
            "[1] 1 3 5 7 9\n",
            "[1] \"numeric\"\n",
            "[1] 5 5 5\n",
            "[1] \"numeric\"\n"
          ]
        }
      ]
    },
    {
      "cell_type": "markdown",
      "source": [
        "## Lists in an R object contains many different types of elements inside it like vectors, functions and even another list inside it"
      ],
      "metadata": {
        "id": "t-7n_bhIMtCD"
      }
    },
    {
      "cell_type": "code",
      "source": [
        "list1 <- list(21.3, 'apple', c(1,2,3))\n",
        "list1"
      ],
      "metadata": {
        "colab": {
          "base_uri": "https://localhost:8080/",
          "height": 97
        },
        "id": "2W4UQcdOMe0b",
        "outputId": "ff3a37ad-9fc7-42d5-ce15-d3bbb45593b2"
      },
      "execution_count": 21,
      "outputs": [
        {
          "output_type": "display_data",
          "data": {
            "text/html": [
              "<ol>\n",
              "\t<li>21.3</li>\n",
              "\t<li>'apple'</li>\n",
              "\t<li><style>\n",
              ".list-inline {list-style: none; margin:0; padding: 0}\n",
              ".list-inline>li {display: inline-block}\n",
              ".list-inline>li:not(:last-child)::after {content: \"\\00b7\"; padding: 0 .5ex}\n",
              "</style>\n",
              "<ol class=list-inline><li>1</li><li>2</li><li>3</li></ol>\n",
              "</li>\n",
              "</ol>\n"
            ],
            "text/markdown": "1. 21.3\n2. 'apple'\n3. 1. 1\n2. 2\n3. 3\n\n\n\n\n\n",
            "text/latex": "\\begin{enumerate}\n\\item 21.3\n\\item 'apple'\n\\item \\begin{enumerate*}\n\\item 1\n\\item 2\n\\item 3\n\\end{enumerate*}\n\n\\end{enumerate}\n",
            "text/plain": [
              "[[1]]\n",
              "[1] 21.3\n",
              "\n",
              "[[2]]\n",
              "[1] \"apple\"\n",
              "\n",
              "[[3]]\n",
              "[1] 1 2 3\n"
            ]
          },
          "metadata": {}
        }
      ]
    },
    {
      "cell_type": "markdown",
      "source": [
        "## Arrays"
      ],
      "metadata": {
        "id": "PfcYBPZrNySz"
      }
    },
    {
      "cell_type": "code",
      "source": [
        "a = array(c('red','green','blue'), dim = c(3,3,2))\n",
        "print(a)"
      ],
      "metadata": {
        "colab": {
          "base_uri": "https://localhost:8080/"
        },
        "id": "YOIgW7wYNazz",
        "outputId": "c2e82dd9-7eba-4e5a-a73e-ed1f53b34d5b"
      },
      "execution_count": 23,
      "outputs": [
        {
          "output_type": "stream",
          "name": "stdout",
          "text": [
            ", , 1\n",
            "\n",
            "     [,1]    [,2]    [,3]   \n",
            "[1,] \"red\"   \"red\"   \"red\"  \n",
            "[2,] \"green\" \"green\" \"green\"\n",
            "[3,] \"blue\"  \"blue\"  \"blue\" \n",
            "\n",
            ", , 2\n",
            "\n",
            "     [,1]    [,2]    [,3]   \n",
            "[1,] \"red\"   \"red\"   \"red\"  \n",
            "[2,] \"green\" \"green\" \"green\"\n",
            "[3,] \"blue\"  \"blue\"  \"blue\" \n",
            "\n"
          ]
        }
      ]
    },
    {
      "cell_type": "markdown",
      "source": [
        "# Data Frames\n",
        "## Data frames are tabular data objects. Unlike a matrix, in data frame each column can contain different modes of data. The first column can be numeric while second column can be character and third column can be a logical. It is a list of vectors of equal length."
      ],
      "metadata": {
        "id": "lJAWrsX7PiJ6"
      }
    },
    {
      "cell_type": "code",
      "source": [
        "BMI <- data.frame(\n",
        "  name = c('Vedant', 'Raj', 'Jatin', 'Shubhanshika'),\n",
        "  gender = c(\"Male\", \"Male\", \"Male\", \"Female\"),\n",
        "  height = c(1.67, 1.82, 1.7, 1.5),\n",
        "  weight = c(64, 80, 70, 40),\n",
        "  age = c(20, 19, 20, 20),\n",
        "  bmi_is = c(64/(1.67^2), 80/(1.82^2), 70/(1.7^2), 40/(1.5^2))\n",
        ")\n",
        "print(BMI)"
      ],
      "metadata": {
        "colab": {
          "base_uri": "https://localhost:8080/"
        },
        "id": "apABqWojOycW",
        "outputId": "81c15624-879c-4387-87a7-408d9a6c903b"
      },
      "execution_count": 28,
      "outputs": [
        {
          "output_type": "stream",
          "name": "stdout",
          "text": [
            "          name gender height weight age   bmi_is\n",
            "1       Vedant   Male   1.67     64  20 22.94812\n",
            "2          Raj   Male   1.82     80  19 24.15167\n",
            "3        Jatin   Male   1.70     70  20 24.22145\n",
            "4 Shubhanshika Female   1.50     40  20 17.77778\n"
          ]
        }
      ]
    },
    {
      "cell_type": "code",
      "source": [
        "BMI[1,]"
      ],
      "metadata": {
        "colab": {
          "base_uri": "https://localhost:8080/",
          "height": 129
        },
        "id": "SNOplODURtw7",
        "outputId": "da869d92-aa37-42f1-b15c-d682401f395f"
      },
      "execution_count": 29,
      "outputs": [
        {
          "output_type": "display_data",
          "data": {
            "text/html": [
              "<table class=\"dataframe\">\n",
              "<caption>A data.frame: 1 × 6</caption>\n",
              "<thead>\n",
              "\t<tr><th></th><th scope=col>name</th><th scope=col>gender</th><th scope=col>height</th><th scope=col>weight</th><th scope=col>age</th><th scope=col>bmi_is</th></tr>\n",
              "\t<tr><th></th><th scope=col>&lt;chr&gt;</th><th scope=col>&lt;chr&gt;</th><th scope=col>&lt;dbl&gt;</th><th scope=col>&lt;dbl&gt;</th><th scope=col>&lt;dbl&gt;</th><th scope=col>&lt;dbl&gt;</th></tr>\n",
              "</thead>\n",
              "<tbody>\n",
              "\t<tr><th scope=row>1</th><td>Vedant</td><td>Male</td><td>1.67</td><td>64</td><td>20</td><td>22.94812</td></tr>\n",
              "</tbody>\n",
              "</table>\n"
            ],
            "text/markdown": "\nA data.frame: 1 × 6\n\n| <!--/--> | name &lt;chr&gt; | gender &lt;chr&gt; | height &lt;dbl&gt; | weight &lt;dbl&gt; | age &lt;dbl&gt; | bmi_is &lt;dbl&gt; |\n|---|---|---|---|---|---|---|\n| 1 | Vedant | Male | 1.67 | 64 | 20 | 22.94812 |\n\n",
            "text/latex": "A data.frame: 1 × 6\n\\begin{tabular}{r|llllll}\n  & name & gender & height & weight & age & bmi\\_is\\\\\n  & <chr> & <chr> & <dbl> & <dbl> & <dbl> & <dbl>\\\\\n\\hline\n\t1 & Vedant & Male & 1.67 & 64 & 20 & 22.94812\\\\\n\\end{tabular}\n",
            "text/plain": [
              "  name   gender height weight age bmi_is  \n",
              "1 Vedant Male   1.67   64     20  22.94812"
            ]
          },
          "metadata": {}
        }
      ]
    },
    {
      "cell_type": "code",
      "source": [
        "BMI$name # dataframe_name$column_name will give that column entries"
      ],
      "metadata": {
        "colab": {
          "base_uri": "https://localhost:8080/",
          "height": 34
        },
        "id": "K2Rr_xKFVTKj",
        "outputId": "e328a650-4515-4d8f-ed23-c5f36f4f80f9"
      },
      "execution_count": 30,
      "outputs": [
        {
          "output_type": "display_data",
          "data": {
            "text/html": [
              "<style>\n",
              ".list-inline {list-style: none; margin:0; padding: 0}\n",
              ".list-inline>li {display: inline-block}\n",
              ".list-inline>li:not(:last-child)::after {content: \"\\00b7\"; padding: 0 .5ex}\n",
              "</style>\n",
              "<ol class=list-inline><li>'Vedant'</li><li>'Raj'</li><li>'Jatin'</li><li>'Shubhanshika'</li></ol>\n"
            ],
            "text/markdown": "1. 'Vedant'\n2. 'Raj'\n3. 'Jatin'\n4. 'Shubhanshika'\n\n\n",
            "text/latex": "\\begin{enumerate*}\n\\item 'Vedant'\n\\item 'Raj'\n\\item 'Jatin'\n\\item 'Shubhanshika'\n\\end{enumerate*}\n",
            "text/plain": [
              "[1] \"Vedant\"       \"Raj\"          \"Jatin\"        \"Shubhanshika\""
            ]
          },
          "metadata": {}
        }
      ]
    },
    {
      "cell_type": "code",
      "source": [
        "BMI <- data.frame(\n",
        "  name = c('Vedant', 'Raj', 'Jatin', 'Shubhanshika'),\n",
        "  gender = c(\"Male\", \"Male\", \"Male\", \"Female\"),\n",
        "  height = c(1.67, 1.82, 1.7, 1.5),\n",
        "  weight = c(64, 80, 70, 40),\n",
        "  age = c(20, 19, 20, 20),\n",
        "  bmi_is = c(weight[1]/(height[1]^2), weight[2]/(height[2]^2), weight[3]/(height[3]^2), weight[4]/(height[4]^2))\n",
        ")\n",
        "print(BMI)"
      ],
      "metadata": {
        "colab": {
          "base_uri": "https://localhost:8080/"
        },
        "id": "WOFDxu9lVxGC",
        "outputId": "70b2b554-fe2c-4c3b-e669-df3674c3373d"
      },
      "execution_count": 39,
      "outputs": [
        {
          "output_type": "stream",
          "name": "stdout",
          "text": [
            "          name gender height weight age   bmi_is\n",
            "1       Vedant   Male   1.67     64  20 22.94812\n",
            "2          Raj   Male   1.82     80  19 24.15167\n",
            "3        Jatin   Male   1.70     70  20 24.22145\n",
            "4 Shubhanshika Female   1.50     40  20 17.77778\n"
          ]
        }
      ]
    }
  ]
}