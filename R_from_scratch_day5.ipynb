{
  "nbformat": 4,
  "nbformat_minor": 0,
  "metadata": {
    "colab": {
      "provenance": [],
      "authorship_tag": "ABX9TyOTm1hCpvNWzr9paXPfCYBO",
      "include_colab_link": true
    },
    "kernelspec": {
      "name": "ir",
      "display_name": "R"
    },
    "language_info": {
      "name": "R"
    }
  },
  "cells": [
    {
      "cell_type": "markdown",
      "metadata": {
        "id": "view-in-github",
        "colab_type": "text"
      },
      "source": [
        "<a href=\"https://colab.research.google.com/github/abhi1628/R_Programming/blob/main/R_from_scratch_day5.ipynb\" target=\"_parent\"><img src=\"https://colab.research.google.com/assets/colab-badge.svg\" alt=\"Open In Colab\"/></a>"
      ]
    },
    {
      "cell_type": "markdown",
      "source": [
        "## Summing a Vector"
      ],
      "metadata": {
        "id": "ndLc6h5S9cuZ"
      }
    },
    {
      "cell_type": "code",
      "execution_count": 1,
      "metadata": {
        "colab": {
          "base_uri": "https://localhost:8080/"
        },
        "id": "MfE-7UPk9T90",
        "outputId": "75d100ca-4cfc-4370-f7b0-55cfa0d6b366"
      },
      "outputs": [
        {
          "output_type": "stream",
          "name": "stdout",
          "text": [
            "The sum of the vector is: 15 \n"
          ]
        }
      ],
      "source": [
        "# Define a vector\n",
        "numbers <- c(1, 2, 3, 4, 5)\n",
        "\n",
        "# Initialize the sum variable\n",
        "sum <- 0\n",
        "\n",
        "# For loop to calculate the sum\n",
        "for (num in numbers) {\n",
        "  sum <- sum + num\n",
        "}\n",
        "\n",
        "# Print the result\n",
        "cat(\"The sum of the vector is:\", sum, \"\\n\")\n"
      ]
    },
    {
      "cell_type": "markdown",
      "source": [
        "## Finding Factorial"
      ],
      "metadata": {
        "id": "5mWpw5kt9lTO"
      }
    },
    {
      "cell_type": "code",
      "source": [
        "# Define the number\n",
        "number <- 5\n",
        "\n",
        "# Initialize variables\n",
        "factorial <- 1\n",
        "i <- 1\n",
        "\n",
        "# While loop to calculate the factorial\n",
        "while (i <= number) {\n",
        "  factorial <- factorial * i\n",
        "  i <- i + 1\n",
        "}\n",
        "\n",
        "# Print the result\n",
        "cat(\"The factorial of\", number, \"is:\", factorial, \"\\n\")\n"
      ],
      "metadata": {
        "colab": {
          "base_uri": "https://localhost:8080/"
        },
        "id": "ltCe2GBT9hRK",
        "outputId": "aa398b38-1a88-4ab3-defa-7ef0922a6b06"
      },
      "execution_count": 2,
      "outputs": [
        {
          "output_type": "stream",
          "name": "stdout",
          "text": [
            "The factorial of 5 is: 120 \n"
          ]
        }
      ]
    },
    {
      "cell_type": "markdown",
      "source": [
        "## Generating Fibonacci Sequence"
      ],
      "metadata": {
        "id": "nQ5fA_wJ9qb-"
      }
    },
    {
      "cell_type": "code",
      "source": [
        "# Number of Fibonacci terms to generate\n",
        "n_terms <- 10\n",
        "\n",
        "# Initialize the first two terms\n",
        "fibonacci <- c(0, 1)\n",
        "\n",
        "# Repeat loop to generate the Fibonacci sequence\n",
        "repeat {\n",
        "  # Calculate the next term\n",
        "  next_term <- tail(fibonacci, 1) + tail(fibonacci, 2)[1]\n",
        "\n",
        "  # Append the next term to the sequence\n",
        "  fibonacci <- c(fibonacci, next_term)\n",
        "\n",
        "  # Break the loop if the desired number of terms is reached\n",
        "  if (length(fibonacci) >= n_terms) {\n",
        "    break\n",
        "  }\n",
        "}\n",
        "\n",
        "# Print the Fibonacci sequence\n",
        "cat(\"The first\", n_terms, \"numbers in the Fibonacci sequence are:\\n\")\n",
        "print(fibonacci)\n"
      ],
      "metadata": {
        "colab": {
          "base_uri": "https://localhost:8080/"
        },
        "id": "efTp4fxf9pB-",
        "outputId": "dd5ea5ed-5aba-4009-e682-1311f94c19b1"
      },
      "execution_count": 3,
      "outputs": [
        {
          "output_type": "stream",
          "name": "stdout",
          "text": [
            "The first 10 numbers in the Fibonacci sequence are:\n",
            " [1]  0  1  1  2  3  5  8 13 21 34\n"
          ]
        }
      ]
    },
    {
      "cell_type": "markdown",
      "source": [
        "## Print Multiplication Table"
      ],
      "metadata": {
        "id": "5CeCJpGv91QZ"
      }
    },
    {
      "cell_type": "code",
      "source": [
        "# Define the number\n",
        "number <- 5\n",
        "\n",
        "# For loop to print the multiplication table\n",
        "cat(\"Multiplication table for\", number, \":\\n\")\n",
        "for (i in 1:10) {\n",
        "  result <- number * i\n",
        "  cat(number, \"*\", i, \"=\", result, \"\\n\")\n",
        "}\n"
      ],
      "metadata": {
        "colab": {
          "base_uri": "https://localhost:8080/"
        },
        "id": "YKSQu2379wPn",
        "outputId": "56277dc6-1bb1-420e-d16b-82213c93cfd9"
      },
      "execution_count": 4,
      "outputs": [
        {
          "output_type": "stream",
          "name": "stdout",
          "text": [
            "Multiplication table for 5 :\n",
            "5 * 1 = 5 \n",
            "5 * 2 = 10 \n",
            "5 * 3 = 15 \n",
            "5 * 4 = 20 \n",
            "5 * 5 = 25 \n",
            "5 * 6 = 30 \n",
            "5 * 7 = 35 \n",
            "5 * 8 = 40 \n",
            "5 * 9 = 45 \n",
            "5 * 10 = 50 \n"
          ]
        }
      ]
    },
    {
      "cell_type": "markdown",
      "source": [
        "## Counting Down"
      ],
      "metadata": {
        "id": "fUdlJxZK95Wy"
      }
    },
    {
      "cell_type": "code",
      "source": [
        "# Define the starting number\n",
        "start_number <- 10\n",
        "\n",
        "# While loop to count down\n",
        "cat(\"Counting down from\", start_number, \":\\n\")\n",
        "while (start_number > 0) {\n",
        "  cat(start_number, \"\\n\")\n",
        "  start_number <- start_number - 1\n",
        "}\n",
        "\n",
        "# Print a message when the countdown is complete\n",
        "cat(\"Countdown complete!\\n\")\n"
      ],
      "metadata": {
        "colab": {
          "base_uri": "https://localhost:8080/"
        },
        "id": "MA4r9pkW94C6",
        "outputId": "8bd008d9-8fff-4de2-bcf5-8406ae2daaeb"
      },
      "execution_count": 5,
      "outputs": [
        {
          "output_type": "stream",
          "name": "stdout",
          "text": [
            "Counting down from 10 :\n",
            "10 \n",
            "9 \n",
            "8 \n",
            "7 \n",
            "6 \n",
            "5 \n",
            "4 \n",
            "3 \n",
            "2 \n",
            "1 \n",
            "Countdown complete!\n"
          ]
        }
      ]
    },
    {
      "cell_type": "markdown",
      "source": [
        "## Prime Number Check using user defined function"
      ],
      "metadata": {
        "id": "ELKCZYbF9_-Z"
      }
    },
    {
      "cell_type": "code",
      "source": [
        "# Function to check if a number is prime\n",
        "is_prime <- function(num) {\n",
        "  if (num <= 1) {\n",
        "    return(FALSE)\n",
        "  }\n",
        "  for (i in 2:sqrt(num)) {\n",
        "    if (num %% i == 0) {\n",
        "      return(FALSE)\n",
        "    }\n",
        "  }\n",
        "  return(TRUE)\n",
        "}\n",
        "\n",
        "# Test the function\n",
        "number <- 29\n",
        "if (is_prime(number)) {\n",
        "  cat(number, \"is a prime number.\\n\")\n",
        "} else {\n",
        "  cat(number, \"is not a prime number.\\n\")\n",
        "}\n"
      ],
      "metadata": {
        "colab": {
          "base_uri": "https://localhost:8080/"
        },
        "id": "ng8g7_U19-Rq",
        "outputId": "91450fa7-4ae4-4ac6-aab1-c7327a97e7f2"
      },
      "execution_count": 6,
      "outputs": [
        {
          "output_type": "stream",
          "name": "stdout",
          "text": [
            "29 is a prime number.\n"
          ]
        }
      ]
    },
    {
      "cell_type": "markdown",
      "source": [
        "## Write a R script to split a number into its individual digits and convert these digits into numeric values."
      ],
      "metadata": {
        "id": "m7oRTjdN-8Q5"
      }
    },
    {
      "cell_type": "code",
      "source": [
        "# Define the number\n",
        "num <- 12345\n",
        "\n",
        "# Convert the number to a character string\n",
        "char_num <- as.character(num)\n",
        "# Output: \"12345\"\n",
        "\n",
        "# Split the character string into individual characters (digits)\n",
        "split_digits <- strsplit(char_num, \"\")\n",
        "# Output: list(\"1\", \"2\", \"3\", \"4\", \"5\")\n",
        "\n",
        "# Unlist the result to get a character vector of digits\n",
        "char_vector <- unlist(split_digits)\n",
        "# Output: c(\"1\", \"2\", \"3\", \"4\", \"5\")\n",
        "\n",
        "# Convert the character vector to a numeric vector\n",
        "digits <- as.numeric(char_vector)\n",
        "# Output: c(1, 2, 3, 4, 5)\n",
        "\n",
        "# Print the final result\n",
        "print(digits)\n"
      ],
      "metadata": {
        "colab": {
          "base_uri": "https://localhost:8080/"
        },
        "id": "6KzuItF7_A2r",
        "outputId": "aaadbe3c-85e8-4001-e739-e3160f80b5af"
      },
      "execution_count": 9,
      "outputs": [
        {
          "output_type": "stream",
          "name": "stdout",
          "text": [
            "[1] 1 2 3 4 5\n"
          ]
        }
      ]
    },
    {
      "cell_type": "markdown",
      "source": [
        "## Armstrong Number Check using user defined function"
      ],
      "metadata": {
        "id": "p19lAIPm-LUF"
      }
    },
    {
      "cell_type": "code",
      "source": [
        "# Function to check if a number is an Armstrong number\n",
        "is_armstrong <- function(num) {\n",
        "  digits <- as.numeric(unlist(strsplit(as.character(num), \"\")))\n",
        "  n <- length(digits)\n",
        "  sum_of_powers <- sum(digits^n)\n",
        "  return(sum_of_powers == num)\n",
        "}\n",
        "\n",
        "# Test the function\n",
        "number <- 153\n",
        "if (is_armstrong(number)) {\n",
        "  cat(number, \"is an Armstrong number.\\n\")\n",
        "} else {\n",
        "  cat(number, \"is not an Armstrong number.\\n\")\n",
        "}\n"
      ],
      "metadata": {
        "colab": {
          "base_uri": "https://localhost:8080/"
        },
        "id": "FybETTff-H9e",
        "outputId": "12964a72-cf04-40a8-bbf7-f1fe098acbd8"
      },
      "execution_count": 7,
      "outputs": [
        {
          "output_type": "stream",
          "name": "stdout",
          "text": [
            "153 is an Armstrong number.\n"
          ]
        }
      ]
    },
    {
      "cell_type": "markdown",
      "source": [
        "## Sum of Digits using user defined function"
      ],
      "metadata": {
        "id": "uX1jukEq-TMy"
      }
    },
    {
      "cell_type": "code",
      "source": [
        "# Function to calculate the sum of digits\n",
        "sum_of_digits <- function(num) {\n",
        "  digits <- as.numeric(unlist(strsplit(as.character(num), \"\")))\n",
        "  return(sum(digits))\n",
        "}\n",
        "\n",
        "# Test the function\n",
        "number <- 12345\n",
        "sum_digits <- sum_of_digits(number)\n",
        "cat(\"The sum of the digits of\", number, \"is:\", sum_digits, \"\\n\")\n"
      ],
      "metadata": {
        "colab": {
          "base_uri": "https://localhost:8080/"
        },
        "id": "EbhKKeDT-OgG",
        "outputId": "ea8c2604-ff6d-4a13-ca8b-920c8f8f4a44"
      },
      "execution_count": 8,
      "outputs": [
        {
          "output_type": "stream",
          "name": "stdout",
          "text": [
            "The sum of the digits of 12345 is: 15 \n"
          ]
        }
      ]
    },
    {
      "cell_type": "code",
      "source": [],
      "metadata": {
        "id": "bL2jICVc-gXq"
      },
      "execution_count": null,
      "outputs": []
    }
  ]
}