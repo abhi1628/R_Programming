{
  "nbformat": 4,
  "nbformat_minor": 0,
  "metadata": {
    "colab": {
      "provenance": [],
      "authorship_tag": "ABX9TyN8SIF3ueX8CyddB1FbTgFq",
      "include_colab_link": true
    },
    "kernelspec": {
      "name": "ir",
      "display_name": "R"
    },
    "language_info": {
      "name": "R"
    }
  },
  "cells": [
    {
      "cell_type": "markdown",
      "metadata": {
        "id": "view-in-github",
        "colab_type": "text"
      },
      "source": [
        "<a href=\"https://colab.research.google.com/github/abhi1628/R_Programming/blob/main/R_from_scratch_day2.ipynb\" target=\"_parent\"><img src=\"https://colab.research.google.com/assets/colab-badge.svg\" alt=\"Open In Colab\"/></a>"
      ]
    },
    {
      "cell_type": "markdown",
      "source": [
        "## Operators in R"
      ],
      "metadata": {
        "id": "C1Zqqh08bhYM"
      }
    },
    {
      "cell_type": "code",
      "execution_count": null,
      "metadata": {
        "colab": {
          "base_uri": "https://localhost:8080/"
        },
        "id": "-7XbnYHPbcGT",
        "outputId": "76f231fc-d6f1-4183-fd3a-e3ce7ca09476"
      },
      "outputs": [
        {
          "output_type": "stream",
          "name": "stdout",
          "text": [
            "[1] \"Arithmetic Operators\"\n",
            "[1] 8\n",
            "[1] 2\n",
            "[1] 15\n",
            "[1] 1.666667\n",
            "[1] 125\n",
            "[1] 2\n",
            "[1] 1\n"
          ]
        }
      ],
      "source": [
        "# Arithmetic operators\n",
        "print(\"Arithmetic Operators\")\n",
        "print(5 + 3)\n",
        "print(5 - 3)\n",
        "print(5 * 3)\n",
        "print(5 / 3)\n",
        "print(5 ^ 3)\n",
        "print(5 %% 3)\n",
        "print(5 %/% 3)"
      ]
    },
    {
      "cell_type": "code",
      "source": [
        "# Relational operators\n",
        "print(\"Relational Operators\")\n",
        "print(5 > 3)\n",
        "print(5 < 3)\n",
        "print(5 >= 3)\n",
        "print(5 <= 3)\n",
        "print(5 != 3)\n",
        "print(5 == 3)"
      ],
      "metadata": {
        "colab": {
          "base_uri": "https://localhost:8080/"
        },
        "id": "ET0l8lD8c24h",
        "outputId": "7b9a60eb-1a4c-4295-b818-5602ce2e78f9"
      },
      "execution_count": null,
      "outputs": [
        {
          "output_type": "stream",
          "name": "stdout",
          "text": [
            "[1] \"Relational Operators\"\n",
            "[1] TRUE\n",
            "[1] FALSE\n",
            "[1] TRUE\n",
            "[1] FALSE\n",
            "[1] TRUE\n",
            "[1] FALSE\n"
          ]
        }
      ]
    },
    {
      "cell_type": "code",
      "source": [
        "# Logical Operators\n",
        "print(\"Logical Operators\")\n",
        "print(TRUE & TRUE)\n",
        "print(TRUE | FALSE)\n",
        "print(!TRUE)"
      ],
      "metadata": {
        "colab": {
          "base_uri": "https://localhost:8080/"
        },
        "id": "WD6DTIgDd_DF",
        "outputId": "5ac6dcb7-151e-4caf-e29e-df9e3b042ea5"
      },
      "execution_count": null,
      "outputs": [
        {
          "output_type": "stream",
          "name": "stdout",
          "text": [
            "[1] \"Logical Operators\"\n",
            "[1] TRUE\n",
            "[1] TRUE\n",
            "[1] FALSE\n"
          ]
        }
      ]
    },
    {
      "cell_type": "code",
      "source": [
        "# Special Operators\n",
        "print(\"Special Operators\")\n",
        "print(5:10)\n",
        "print(5 %in% c(1,2,3,4,5,6))\n",
        "print(1:10 %in% 5:8)"
      ],
      "metadata": {
        "colab": {
          "base_uri": "https://localhost:8080/"
        },
        "id": "Jp1afv1te5IB",
        "outputId": "f8dcb2aa-cca7-4a38-acf9-daea937e6a97"
      },
      "execution_count": null,
      "outputs": [
        {
          "output_type": "stream",
          "name": "stdout",
          "text": [
            "[1] \"Special Operators\"\n",
            "[1]  5  6  7  8  9 10\n",
            "[1] TRUE\n",
            " [1] FALSE FALSE FALSE FALSE  TRUE  TRUE  TRUE  TRUE FALSE FALSE\n"
          ]
        }
      ]
    },
    {
      "cell_type": "markdown",
      "source": [
        "## WAP in R to check if a number is even"
      ],
      "metadata": {
        "id": "-vGLF5odiCX-"
      }
    },
    {
      "cell_type": "code",
      "source": [
        "num <- 10\n",
        "if(num %% 2 == 0){\n",
        "  print(paste(num, \"is even\"))\n",
        "}else{\n",
        "  print(paste(num, \"is odd\"))\n",
        "}"
      ],
      "metadata": {
        "colab": {
          "base_uri": "https://localhost:8080/"
        },
        "id": "FYkTEEb6f4xg",
        "outputId": "3bb8e68b-4300-4121-9b9b-213feed21b6c"
      },
      "execution_count": null,
      "outputs": [
        {
          "output_type": "stream",
          "name": "stdout",
          "text": [
            "[1] \"10 is even\"\n"
          ]
        }
      ]
    },
    {
      "cell_type": "code",
      "source": [
        "num <- 10.0\n",
        "print(class(num))\n",
        "if(num %% 2 == 0){\n",
        "  print(paste(num, \"is even\"))\n",
        "}else{\n",
        "  print(paste(num, \"is odd\"))\n",
        "}"
      ],
      "metadata": {
        "colab": {
          "base_uri": "https://localhost:8080/"
        },
        "id": "BNmPKTxIiktU",
        "outputId": "a08ad202-3bd2-43d0-dd94-30590176d105"
      },
      "execution_count": null,
      "outputs": [
        {
          "output_type": "stream",
          "name": "stdout",
          "text": [
            "[1] \"numeric\"\n",
            "[1] \"10 is even\"\n"
          ]
        }
      ]
    },
    {
      "cell_type": "markdown",
      "source": [
        "## WAP in R to check if a number is positive, zero or negative"
      ],
      "metadata": {
        "id": "RJOAtEXsjaF_"
      }
    },
    {
      "cell_type": "code",
      "source": [
        "num <- -10.0\n",
        "print(class(num))\n",
        "if(num > 0){\n",
        "  print(paste(num, \"is positive\"))\n",
        "}else if(num < 0){\n",
        "  print(paste(num, \"is negative\"))\n",
        "}else{\n",
        "  print(paste(num, \"is zero\"))\n",
        "}"
      ],
      "metadata": {
        "colab": {
          "base_uri": "https://localhost:8080/"
        },
        "id": "Ev_UBAtljKtw",
        "outputId": "046c3067-8a54-4e0d-9fe1-28ece52c501f"
      },
      "execution_count": null,
      "outputs": [
        {
          "output_type": "stream",
          "name": "stdout",
          "text": [
            "[1] \"numeric\"\n",
            "[1] \"-10 is negative\"\n"
          ]
        }
      ]
    },
    {
      "cell_type": "markdown",
      "source": [
        "## WAP to find the factorial of a number"
      ],
      "metadata": {
        "id": "7HnCwjZ3oWBC"
      }
    },
    {
      "cell_type": "code",
      "source": [
        "num <- 10\n",
        "fact <- 1\n",
        "for (i in 1:num){\n",
        "  fact <- fact * i\n",
        "}\n",
        "print(paste(\"Factorial of\",num,\"is\",fact))"
      ],
      "metadata": {
        "colab": {
          "base_uri": "https://localhost:8080/"
        },
        "id": "qulgQm6UjsAy",
        "outputId": "e1928856-5d53-406c-f4f5-29f9c48e694e"
      },
      "execution_count": null,
      "outputs": [
        {
          "output_type": "stream",
          "name": "stdout",
          "text": [
            "[1] \"Factorial of 10 is 3628800\"\n"
          ]
        }
      ]
    },
    {
      "cell_type": "markdown",
      "source": [
        "## WAP to find the factorial of a number. Take number from user."
      ],
      "metadata": {
        "id": "W_DqhUjQs85c"
      }
    },
    {
      "cell_type": "code",
      "source": [
        "num <- readline(prompt = \"Enter a number:\")\n",
        "fact <- 1\n",
        "for (i in 1:num){\n",
        "  fact <- fact * i\n",
        "}\n",
        "print(paste(\"Factorial of\",num,\"is\",fact))"
      ],
      "metadata": {
        "colab": {
          "base_uri": "https://localhost:8080/"
        },
        "id": "RY74O0hlo20-",
        "outputId": "50dade23-2f05-4c44-baf5-c3441bccb1c2"
      },
      "execution_count": null,
      "outputs": [
        {
          "output_type": "stream",
          "name": "stdout",
          "text": [
            "Enter a number:10\n",
            "[1] \"Factorial of 10 is 3628800\"\n"
          ]
        }
      ]
    },
    {
      "cell_type": "code",
      "source": [],
      "metadata": {
        "id": "5unLQyvhtPTX"
      },
      "execution_count": null,
      "outputs": []
    }
  ]
}